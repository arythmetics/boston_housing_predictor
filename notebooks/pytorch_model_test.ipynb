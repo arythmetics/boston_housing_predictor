{
 "cells": [
  {
   "cell_type": "code",
   "execution_count": 61,
   "id": "daily-mother",
   "metadata": {},
   "outputs": [],
   "source": [
    "from torch.utils.data import Dataset\n",
    "from torch.utils.data import DataLoader\n",
    "from torch.utils.data import random_split\n",
    "from torch import Tensor\n",
    "from torch.nn import Linear\n",
    "from torch.nn import Sigmoid\n",
    "from torch.nn import Module\n",
    "from torch.optim import SGD\n",
    "from torch.nn import MSELoss\n",
    "from torch.nn.init import xavier_uniform_\n",
    "\n",
    "from sklearn.metrics import mean_squared_error\n",
    "from sklearn.datasets import load_boston\n",
    "\n",
    "import numpy as np\n",
    "from numpy import vstack\n",
    "from numpy import sqrt"
   ]
  },
  {
   "cell_type": "code",
   "execution_count": 62,
   "id": "nutritional-wages",
   "metadata": {},
   "outputs": [],
   "source": [
    "class inputDataset(Dataset):\n",
    "    # load the dataset\n",
    "    def __init__(self):\n",
    "        # store the inputs and outputs\n",
    "        self.X, self.y = load_boston(return_X_y=True)\n",
    "        self.X, self.y = self.X.astype('float32'), self.y.astype('float32')\n",
    "        # ensure target has the right shape\n",
    "        self.y = self.y.reshape((len(self.y), 1))\n",
    " \n",
    "    # number of rows in the dataset\n",
    "    def __len__(self):\n",
    "        return len(self.X)\n",
    " \n",
    "    # get a row at an index\n",
    "    def __getitem__(self, idx):\n",
    "        return [self.X[idx], self.y[idx]]\n",
    " \n",
    "    # get indexes for train and test rows\n",
    "    def get_splits(self, n_test=0.33):\n",
    "        # determine sizes\n",
    "        test_size = round(n_test * len(self.X))\n",
    "        train_size = len(self.X) - test_size\n",
    "        # calculate the split\n",
    "        return random_split(self, [train_size, test_size])\n",
    "    \n",
    "    def prepare_data(self):\n",
    "        # calculate split\n",
    "        train, test = self.get_splits()\n",
    "        # prepare data loaders\n",
    "        train_dl = DataLoader(train, batch_size=32, shuffle=True)\n",
    "        test_dl = DataLoader(test, batch_size=1024, shuffle=False)\n",
    "        return train_dl, test_dl"
   ]
  },
  {
   "cell_type": "code",
   "execution_count": 63,
   "id": "affiliated-programmer",
   "metadata": {},
   "outputs": [],
   "source": [
    "class MLP(Module):\n",
    "    # define model elements\n",
    "    def __init__(self, n_inputs):\n",
    "        super(MLP, self).__init__()\n",
    "        # input to first hidden layer\n",
    "        self.hidden1 = Linear(n_inputs, 10)\n",
    "        xavier_uniform_(self.hidden1.weight)\n",
    "        self.act1 = Sigmoid()\n",
    "        # second hidden layer\n",
    "        self.hidden2 = Linear(10, 8)\n",
    "        xavier_uniform_(self.hidden2.weight)\n",
    "        self.act2 = Sigmoid()\n",
    "        # third hidden layer and output\n",
    "        self.hidden3 = Linear(8, 1)\n",
    "        xavier_uniform_(self.hidden3.weight)\n",
    " \n",
    "    # forward propagate input\n",
    "    def forward(self, X):\n",
    "        # input to first hidden layer\n",
    "        X = self.hidden1(X)\n",
    "        X = self.act1(X)\n",
    "         # second hidden layer\n",
    "        X = self.hidden2(X)\n",
    "        X = self.act2(X)\n",
    "        # third hidden layer and output\n",
    "        X = self.hidden3(X)\n",
    "        return X"
   ]
  },
  {
   "cell_type": "code",
   "execution_count": 64,
   "id": "adopted-stationery",
   "metadata": {},
   "outputs": [],
   "source": [
    "class Model:\n",
    "    \n",
    "    def __init__(self):\n",
    "        self.model = MLP(13)\n",
    "    \n",
    "    def train(self, train_dl):\n",
    "        # define the optimization\n",
    "        criterion = MSELoss()\n",
    "        optimizer = SGD(self.model.parameters(), lr=0.01, momentum=0.9)\n",
    "        # enumerate epochs\n",
    "        for epoch in range(100):\n",
    "            # enumerate mini batches\n",
    "            for i, (inputs, targets) in enumerate(train_dl):\n",
    "                # clear the gradients\n",
    "                optimizer.zero_grad()\n",
    "                # compute the model output\n",
    "                yhat = self.model(inputs)\n",
    "                # calculate loss\n",
    "                loss = criterion(yhat, targets)\n",
    "                # credit assignment\n",
    "                loss.backward()\n",
    "                # update model weights\n",
    "                optimizer.step()\n",
    "    \n",
    "    def test(self, test_dl):\n",
    "        predictions, actuals = list(), list()\n",
    "        for i, (inputs, targets) in enumerate(test_dl):\n",
    "            # evaluate the model on the test set\n",
    "            yhat = self.model(inputs)\n",
    "            # retrieve numpy array\n",
    "            yhat = yhat.detach().numpy()\n",
    "            actual = targets.numpy()\n",
    "            actual = actual.reshape((len(actual), 1))\n",
    "            # store\n",
    "            predictions.append(yhat)\n",
    "            actuals.append(actual)\n",
    "        predictions, actuals = vstack(predictions), vstack(actuals)\n",
    "        # calculate mse\n",
    "        mse = mean_squared_error(actuals, predictions)\n",
    "        return mse\n",
    "    \n",
    "    def predict(self, row):\n",
    "        # convert row to data\n",
    "        row = Tensor([row])\n",
    "        # make prediction\n",
    "        yhat = self.model(row)\n",
    "        # retrieve numpy array\n",
    "        yhat = yhat.detach().numpy()\n",
    "        return yhat"
   ]
  },
  {
   "cell_type": "code",
   "execution_count": 65,
   "id": "professional-competition",
   "metadata": {},
   "outputs": [],
   "source": [
    "model = Model()"
   ]
  },
  {
   "cell_type": "code",
   "execution_count": 66,
   "id": "decent-bobby",
   "metadata": {},
   "outputs": [],
   "source": [
    "train_dl, test_dl = inputDataset().prepare_data()"
   ]
  },
  {
   "cell_type": "code",
   "execution_count": 67,
   "id": "latter-collection",
   "metadata": {},
   "outputs": [],
   "source": [
    "model.train(train_dl)"
   ]
  },
  {
   "cell_type": "code",
   "execution_count": 68,
   "id": "alpha-clark",
   "metadata": {},
   "outputs": [
    {
     "data": {
      "text/plain": [
       "70.51213"
      ]
     },
     "execution_count": 68,
     "metadata": {},
     "output_type": "execute_result"
    }
   ],
   "source": [
    "model.test(test_dl)"
   ]
  },
  {
   "cell_type": "code",
   "execution_count": 69,
   "id": "strong-bracelet",
   "metadata": {},
   "outputs": [
    {
     "data": {
      "text/plain": [
       "array([[22.618038]], dtype=float32)"
      ]
     },
     "execution_count": 69,
     "metadata": {},
     "output_type": "execute_result"
    }
   ],
   "source": [
    "row = [0.00632,18.00,2.310,0,0.5380,6.5750,65.20,4.0900,1,296.0,15.30,396.90,4.98]\n",
    "model.predict(row)"
   ]
  },
  {
   "cell_type": "code",
   "execution_count": null,
   "id": "controversial-ethiopia",
   "metadata": {},
   "outputs": [],
   "source": []
  }
 ],
 "metadata": {
  "kernelspec": {
   "display_name": "Python 3",
   "language": "python",
   "name": "python3"
  },
  "language_info": {
   "codemirror_mode": {
    "name": "ipython",
    "version": 3
   },
   "file_extension": ".py",
   "mimetype": "text/x-python",
   "name": "python",
   "nbconvert_exporter": "python",
   "pygments_lexer": "ipython3",
   "version": "3.7.10"
  }
 },
 "nbformat": 4,
 "nbformat_minor": 5
}
